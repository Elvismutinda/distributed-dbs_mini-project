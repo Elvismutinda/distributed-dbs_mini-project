{
 "cells": [
  {
   "cell_type": "markdown",
   "metadata": {},
   "source": [
    "# Site Nairobi\n",
    "#### **MySQL**\n",
    "\n",
    "- Mutinda Elvis Musau - P15/143051/2021\n",
    "\n",
    "<br />\n",
    "\n",
    "\n",
    "**Kindly ensure that you've gone through the README notebook pdf, site_makueni, and finally the decision site site_machakos notebook to get a full picture of how fragmentation and reconstruction has been done**\n",
    "\n",
    "<br />\n",
    "<br />"
   ]
  },
  {
   "cell_type": "markdown",
   "metadata": {},
   "source": [
    "Ensure that the site / machine already has the `soishop` database. If not, use the `CREATE DATABASE soishop;` SQL query "
   ]
  },
  {
   "cell_type": "markdown",
   "metadata": {},
   "source": [
    "## Tables"
   ]
  },
  {
   "cell_type": "markdown",
   "metadata": {},
   "source": [
    "|Table|Description|\n",
    "|---|---|\n",
    "|**inventory_nairobi**| Fragment of the inventory table |\n",
    "| **category** | Duplicate of the category table. Required since inventory_nairobi references it as a foreign key |\n",
    "|**suppliers** | Duplicate of the suppliers table. Required since inventory_nairobi references it as a foreign key |\n"
   ]
  },
  {
   "cell_type": "markdown",
   "metadata": {},
   "source": [
    "### `category` Table"
   ]
  }
 ],
 "metadata": {
  "language_info": {
   "name": "python"
  }
 },
 "nbformat": 4,
 "nbformat_minor": 2
}
